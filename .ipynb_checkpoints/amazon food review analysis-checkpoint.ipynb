{
 "cells": [
  {
   "cell_type": "markdown",
   "metadata": {},
   "source": [
    "# write the production ready code to perform multiclass logistic regression on this data and find the most optimum training configuration (Regularization Strength, Learning Rate and Number of Principal Components) for training multiclass logistic regression using the Cross Validation Data. "
   ]
  },
  {
   "cell_type": "code",
   "execution_count": 1,
   "metadata": {},
   "outputs": [],
   "source": [
    "import dask.bag as bag #for lazy operations import daskbags\n",
    "import os\n",
    "from dask.diagnostics import ProgressBar # to see the progress of the process"
   ]
  },
  {
   "cell_type": "code",
   "execution_count": 2,
   "metadata": {},
   "outputs": [],
   "source": [
    "raw_text=bag.read_text(\"foods.txt\",encoding='latin1') "
   ]
  },
  {
   "cell_type": "code",
   "execution_count": 3,
   "metadata": {},
   "outputs": [],
   "source": [
    "def get_next_buffer_part(file,start_index,span_index=0,blocksize=1000):\n",
    "    file.seek(start_index)\n",
    "    buffer=file.read(blocksize+span_index).decode('latin1')\n",
    "    delimeter_position=buffer.find(\"\\n\\n\")\n",
    "    if delimeter_position==-1:\n",
    "        return get_next_buffer_part(file,start_index,span_index+blocksize)\n",
    "    else:\n",
    "        file.seek(start_index)\n",
    "        return start_index,delimeter_position\n"
   ]
  },
  {
   "cell_type": "code",
   "execution_count": 4,
   "metadata": {},
   "outputs": [],
   "source": [
    "with open(\"foods.txt\",\"rb\") as file_handle:\n",
    "    size=file_handle.seek(0,2)-1\n",
    "    more_data=True\n",
    "    output=list()\n",
    "    current_position=0\n",
    "    next_position=0\n",
    "    while more_data:\n",
    "        if current_position>=size:\n",
    "            more_data=False\n",
    "        else:\n",
    "            current_position,next_position=get_next_buffer_part(file_handle,current_position,0)\n",
    "            output.append((current_position,next_position))\n",
    "            current_position=current_position+next_position+2"
   ]
  },
  {
   "cell_type": "code",
   "execution_count": null,
   "metadata": {},
   "outputs": [],
   "source": []
  },
  {
   "cell_type": "code",
   "execution_count": 5,
   "metadata": {},
   "outputs": [],
   "source": [
    "def get_dict_item(filename,start_index,delimeter_position,encoding='latin1'):\n",
    "    with open(filename,\"rb\") as file_handle:\n",
    "        file_handle.seek(start_index)\n",
    "        single_review=file_handle.read(delimeter_position).decode('latin1')\n",
    "        single_review_elements=single_review.strip().split(\"\\n\")\n",
    "        key_value_pairs=list()\n",
    "        for element in single_review_elements:\n",
    "            if len(element.split(\": \"))>1:\n",
    "                key_value_pairs.append((element.split(\": \")[0],element.split(\": \")[1]))\n",
    "            else:\n",
    "                key_value_pairs.append((\"unknown\",element))\n",
    "                return dict(key_value_pairs)"
   ]
  },
  {
   "cell_type": "code",
   "execution_count": 6,
   "metadata": {},
   "outputs": [],
   "source": [
    "reviews = bag.from_sequence(output)"
   ]
  },
  {
   "cell_type": "code",
   "execution_count": 7,
   "metadata": {},
   "outputs": [
    {
     "data": {
      "text/plain": [
       "((0, 471), (473, 390))"
      ]
     },
     "execution_count": 7,
     "metadata": {},
     "output_type": "execute_result"
    }
   ],
   "source": [
    "reviews.take(2)"
   ]
  },
  {
   "cell_type": "code",
   "execution_count": 8,
   "metadata": {},
   "outputs": [],
   "source": [
    "reviews=reviews.map(lambda x : get_dict_item(\"foods.txt\",x[0],x[1],encoding='latin1'))"
   ]
  },
  {
   "cell_type": "code",
   "execution_count": 9,
   "metadata": {},
   "outputs": [
    {
     "data": {
      "text/plain": [
       "(None, None, None)"
      ]
     },
     "execution_count": 9,
     "metadata": {},
     "output_type": "execute_result"
    }
   ],
   "source": [
    "reviews.take(3)"
   ]
  },
  {
   "cell_type": "code",
   "execution_count": null,
   "metadata": {},
   "outputs": [],
   "source": []
  }
 ],
 "metadata": {
  "kernelspec": {
   "display_name": "Python 3",
   "language": "python",
   "name": "python3"
  },
  "language_info": {
   "codemirror_mode": {
    "name": "ipython",
    "version": 3
   },
   "file_extension": ".py",
   "mimetype": "text/x-python",
   "name": "python",
   "nbconvert_exporter": "python",
   "pygments_lexer": "ipython3",
   "version": "3.8.5"
  }
 },
 "nbformat": 4,
 "nbformat_minor": 4
}
