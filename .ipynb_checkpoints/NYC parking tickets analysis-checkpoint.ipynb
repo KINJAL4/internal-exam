{
 "cells": [
  {
   "cell_type": "code",
   "execution_count": 1,
   "metadata": {},
   "outputs": [],
   "source": [
    "import dask.dataframe as dd # for lazy evaluation \n",
    "from dask.diagnostics import ProgressBar #to see progress of the process\n",
    "import pandas as pd #data processing\n",
    "import seaborn as sns # for plotting the data"
   ]
  },
  {
   "cell_type": "code",
   "execution_count": 2,
   "metadata": {},
   "outputs": [],
   "source": [
    "df = dd.read_csv(\"./Parking_Violations_Issued_-_Fiscal_Year_2017.csv\") #read data through dask "
   ]
  },
  {
   "cell_type": "code",
   "execution_count": 3,
   "metadata": {},
   "outputs": [
    {
     "data": {
      "text/html": [
       "<div><strong>Dask DataFrame Structure:</strong></div>\n",
       "<div>\n",
       "<style scoped>\n",
       "    .dataframe tbody tr th:only-of-type {\n",
       "        vertical-align: middle;\n",
       "    }\n",
       "\n",
       "    .dataframe tbody tr th {\n",
       "        vertical-align: top;\n",
       "    }\n",
       "\n",
       "    .dataframe thead th {\n",
       "        text-align: right;\n",
       "    }\n",
       "</style>\n",
       "<table border=\"1\" class=\"dataframe\">\n",
       "  <thead>\n",
       "    <tr style=\"text-align: right;\">\n",
       "      <th></th>\n",
       "      <th>Summons Number</th>\n",
       "      <th>Plate ID</th>\n",
       "      <th>Registration State</th>\n",
       "      <th>Plate Type</th>\n",
       "      <th>Issue Date</th>\n",
       "      <th>Violation Code</th>\n",
       "      <th>Vehicle Body Type</th>\n",
       "      <th>Vehicle Make</th>\n",
       "      <th>Issuing Agency</th>\n",
       "      <th>Street Code1</th>\n",
       "      <th>Street Code2</th>\n",
       "      <th>Street Code3</th>\n",
       "      <th>Vehicle Expiration Date</th>\n",
       "      <th>Violation Location</th>\n",
       "      <th>Violation Precinct</th>\n",
       "      <th>Issuer Precinct</th>\n",
       "      <th>Issuer Code</th>\n",
       "      <th>Issuer Command</th>\n",
       "      <th>Issuer Squad</th>\n",
       "      <th>Violation Time</th>\n",
       "      <th>Time First Observed</th>\n",
       "      <th>Violation County</th>\n",
       "      <th>Violation In Front Of Or Opposite</th>\n",
       "      <th>House Number</th>\n",
       "      <th>Street Name</th>\n",
       "      <th>Intersecting Street</th>\n",
       "      <th>Date First Observed</th>\n",
       "      <th>Law Section</th>\n",
       "      <th>Sub Division</th>\n",
       "      <th>Violation Legal Code</th>\n",
       "      <th>Days Parking In Effect</th>\n",
       "      <th>From Hours In Effect</th>\n",
       "      <th>To Hours In Effect</th>\n",
       "      <th>Vehicle Color</th>\n",
       "      <th>Unregistered Vehicle?</th>\n",
       "      <th>Vehicle Year</th>\n",
       "      <th>Meter Number</th>\n",
       "      <th>Feet From Curb</th>\n",
       "      <th>Violation Post Code</th>\n",
       "      <th>Violation Description</th>\n",
       "      <th>No Standing or Stopping Violation</th>\n",
       "      <th>Hydrant Violation</th>\n",
       "      <th>Double Parking Violation</th>\n",
       "    </tr>\n",
       "    <tr>\n",
       "      <th>npartitions=41</th>\n",
       "      <th></th>\n",
       "      <th></th>\n",
       "      <th></th>\n",
       "      <th></th>\n",
       "      <th></th>\n",
       "      <th></th>\n",
       "      <th></th>\n",
       "      <th></th>\n",
       "      <th></th>\n",
       "      <th></th>\n",
       "      <th></th>\n",
       "      <th></th>\n",
       "      <th></th>\n",
       "      <th></th>\n",
       "      <th></th>\n",
       "      <th></th>\n",
       "      <th></th>\n",
       "      <th></th>\n",
       "      <th></th>\n",
       "      <th></th>\n",
       "      <th></th>\n",
       "      <th></th>\n",
       "      <th></th>\n",
       "      <th></th>\n",
       "      <th></th>\n",
       "      <th></th>\n",
       "      <th></th>\n",
       "      <th></th>\n",
       "      <th></th>\n",
       "      <th></th>\n",
       "      <th></th>\n",
       "      <th></th>\n",
       "      <th></th>\n",
       "      <th></th>\n",
       "      <th></th>\n",
       "      <th></th>\n",
       "      <th></th>\n",
       "      <th></th>\n",
       "      <th></th>\n",
       "      <th></th>\n",
       "      <th></th>\n",
       "      <th></th>\n",
       "      <th></th>\n",
       "    </tr>\n",
       "  </thead>\n",
       "  <tbody>\n",
       "    <tr>\n",
       "      <th></th>\n",
       "      <td>int64</td>\n",
       "      <td>object</td>\n",
       "      <td>object</td>\n",
       "      <td>object</td>\n",
       "      <td>object</td>\n",
       "      <td>int64</td>\n",
       "      <td>object</td>\n",
       "      <td>object</td>\n",
       "      <td>object</td>\n",
       "      <td>int64</td>\n",
       "      <td>int64</td>\n",
       "      <td>int64</td>\n",
       "      <td>int64</td>\n",
       "      <td>float64</td>\n",
       "      <td>int64</td>\n",
       "      <td>int64</td>\n",
       "      <td>int64</td>\n",
       "      <td>object</td>\n",
       "      <td>object</td>\n",
       "      <td>object</td>\n",
       "      <td>object</td>\n",
       "      <td>object</td>\n",
       "      <td>object</td>\n",
       "      <td>object</td>\n",
       "      <td>object</td>\n",
       "      <td>object</td>\n",
       "      <td>int64</td>\n",
       "      <td>int64</td>\n",
       "      <td>object</td>\n",
       "      <td>object</td>\n",
       "      <td>object</td>\n",
       "      <td>object</td>\n",
       "      <td>object</td>\n",
       "      <td>object</td>\n",
       "      <td>float64</td>\n",
       "      <td>int64</td>\n",
       "      <td>object</td>\n",
       "      <td>int64</td>\n",
       "      <td>object</td>\n",
       "      <td>object</td>\n",
       "      <td>float64</td>\n",
       "      <td>float64</td>\n",
       "      <td>float64</td>\n",
       "    </tr>\n",
       "    <tr>\n",
       "      <th></th>\n",
       "      <td>...</td>\n",
       "      <td>...</td>\n",
       "      <td>...</td>\n",
       "      <td>...</td>\n",
       "      <td>...</td>\n",
       "      <td>...</td>\n",
       "      <td>...</td>\n",
       "      <td>...</td>\n",
       "      <td>...</td>\n",
       "      <td>...</td>\n",
       "      <td>...</td>\n",
       "      <td>...</td>\n",
       "      <td>...</td>\n",
       "      <td>...</td>\n",
       "      <td>...</td>\n",
       "      <td>...</td>\n",
       "      <td>...</td>\n",
       "      <td>...</td>\n",
       "      <td>...</td>\n",
       "      <td>...</td>\n",
       "      <td>...</td>\n",
       "      <td>...</td>\n",
       "      <td>...</td>\n",
       "      <td>...</td>\n",
       "      <td>...</td>\n",
       "      <td>...</td>\n",
       "      <td>...</td>\n",
       "      <td>...</td>\n",
       "      <td>...</td>\n",
       "      <td>...</td>\n",
       "      <td>...</td>\n",
       "      <td>...</td>\n",
       "      <td>...</td>\n",
       "      <td>...</td>\n",
       "      <td>...</td>\n",
       "      <td>...</td>\n",
       "      <td>...</td>\n",
       "      <td>...</td>\n",
       "      <td>...</td>\n",
       "      <td>...</td>\n",
       "      <td>...</td>\n",
       "      <td>...</td>\n",
       "      <td>...</td>\n",
       "    </tr>\n",
       "    <tr>\n",
       "      <th>...</th>\n",
       "      <td>...</td>\n",
       "      <td>...</td>\n",
       "      <td>...</td>\n",
       "      <td>...</td>\n",
       "      <td>...</td>\n",
       "      <td>...</td>\n",
       "      <td>...</td>\n",
       "      <td>...</td>\n",
       "      <td>...</td>\n",
       "      <td>...</td>\n",
       "      <td>...</td>\n",
       "      <td>...</td>\n",
       "      <td>...</td>\n",
       "      <td>...</td>\n",
       "      <td>...</td>\n",
       "      <td>...</td>\n",
       "      <td>...</td>\n",
       "      <td>...</td>\n",
       "      <td>...</td>\n",
       "      <td>...</td>\n",
       "      <td>...</td>\n",
       "      <td>...</td>\n",
       "      <td>...</td>\n",
       "      <td>...</td>\n",
       "      <td>...</td>\n",
       "      <td>...</td>\n",
       "      <td>...</td>\n",
       "      <td>...</td>\n",
       "      <td>...</td>\n",
       "      <td>...</td>\n",
       "      <td>...</td>\n",
       "      <td>...</td>\n",
       "      <td>...</td>\n",
       "      <td>...</td>\n",
       "      <td>...</td>\n",
       "      <td>...</td>\n",
       "      <td>...</td>\n",
       "      <td>...</td>\n",
       "      <td>...</td>\n",
       "      <td>...</td>\n",
       "      <td>...</td>\n",
       "      <td>...</td>\n",
       "      <td>...</td>\n",
       "    </tr>\n",
       "    <tr>\n",
       "      <th></th>\n",
       "      <td>...</td>\n",
       "      <td>...</td>\n",
       "      <td>...</td>\n",
       "      <td>...</td>\n",
       "      <td>...</td>\n",
       "      <td>...</td>\n",
       "      <td>...</td>\n",
       "      <td>...</td>\n",
       "      <td>...</td>\n",
       "      <td>...</td>\n",
       "      <td>...</td>\n",
       "      <td>...</td>\n",
       "      <td>...</td>\n",
       "      <td>...</td>\n",
       "      <td>...</td>\n",
       "      <td>...</td>\n",
       "      <td>...</td>\n",
       "      <td>...</td>\n",
       "      <td>...</td>\n",
       "      <td>...</td>\n",
       "      <td>...</td>\n",
       "      <td>...</td>\n",
       "      <td>...</td>\n",
       "      <td>...</td>\n",
       "      <td>...</td>\n",
       "      <td>...</td>\n",
       "      <td>...</td>\n",
       "      <td>...</td>\n",
       "      <td>...</td>\n",
       "      <td>...</td>\n",
       "      <td>...</td>\n",
       "      <td>...</td>\n",
       "      <td>...</td>\n",
       "      <td>...</td>\n",
       "      <td>...</td>\n",
       "      <td>...</td>\n",
       "      <td>...</td>\n",
       "      <td>...</td>\n",
       "      <td>...</td>\n",
       "      <td>...</td>\n",
       "      <td>...</td>\n",
       "      <td>...</td>\n",
       "      <td>...</td>\n",
       "    </tr>\n",
       "    <tr>\n",
       "      <th></th>\n",
       "      <td>...</td>\n",
       "      <td>...</td>\n",
       "      <td>...</td>\n",
       "      <td>...</td>\n",
       "      <td>...</td>\n",
       "      <td>...</td>\n",
       "      <td>...</td>\n",
       "      <td>...</td>\n",
       "      <td>...</td>\n",
       "      <td>...</td>\n",
       "      <td>...</td>\n",
       "      <td>...</td>\n",
       "      <td>...</td>\n",
       "      <td>...</td>\n",
       "      <td>...</td>\n",
       "      <td>...</td>\n",
       "      <td>...</td>\n",
       "      <td>...</td>\n",
       "      <td>...</td>\n",
       "      <td>...</td>\n",
       "      <td>...</td>\n",
       "      <td>...</td>\n",
       "      <td>...</td>\n",
       "      <td>...</td>\n",
       "      <td>...</td>\n",
       "      <td>...</td>\n",
       "      <td>...</td>\n",
       "      <td>...</td>\n",
       "      <td>...</td>\n",
       "      <td>...</td>\n",
       "      <td>...</td>\n",
       "      <td>...</td>\n",
       "      <td>...</td>\n",
       "      <td>...</td>\n",
       "      <td>...</td>\n",
       "      <td>...</td>\n",
       "      <td>...</td>\n",
       "      <td>...</td>\n",
       "      <td>...</td>\n",
       "      <td>...</td>\n",
       "      <td>...</td>\n",
       "      <td>...</td>\n",
       "      <td>...</td>\n",
       "    </tr>\n",
       "  </tbody>\n",
       "</table>\n",
       "</div>\n",
       "<div>Dask Name: read-csv, 41 tasks</div>"
      ],
      "text/plain": [
       "Dask DataFrame Structure:\n",
       "               Summons Number Plate ID Registration State Plate Type Issue Date Violation Code Vehicle Body Type Vehicle Make Issuing Agency Street Code1 Street Code2 Street Code3 Vehicle Expiration Date Violation Location Violation Precinct Issuer Precinct Issuer Code Issuer Command Issuer Squad Violation Time Time First Observed Violation County Violation In Front Of Or Opposite House Number Street Name Intersecting Street Date First Observed Law Section Sub Division Violation Legal Code Days Parking In Effect     From Hours In Effect To Hours In Effect Vehicle Color Unregistered Vehicle? Vehicle Year Meter Number Feet From Curb Violation Post Code Violation Description No Standing or Stopping Violation Hydrant Violation Double Parking Violation\n",
       "npartitions=41                                                                                                                                                                                                                                                                                                                                                                                                                                                                                                                                                                                                                                                                                                                                                                       \n",
       "                        int64   object             object     object     object          int64            object       object         object        int64        int64        int64                   int64            float64              int64           int64       int64         object       object         object              object           object                            object       object      object              object               int64       int64       object               object                     object               object             object        object               float64        int64       object          int64              object                object                           float64           float64                  float64\n",
       "                          ...      ...                ...        ...        ...            ...               ...          ...            ...          ...          ...          ...                     ...                ...                ...             ...         ...            ...          ...            ...                 ...              ...                               ...          ...         ...                 ...                 ...         ...          ...                  ...                        ...                  ...                ...           ...                   ...          ...          ...            ...                 ...                   ...                               ...               ...                      ...\n",
       "...                       ...      ...                ...        ...        ...            ...               ...          ...            ...          ...          ...          ...                     ...                ...                ...             ...         ...            ...          ...            ...                 ...              ...                               ...          ...         ...                 ...                 ...         ...          ...                  ...                        ...                  ...                ...           ...                   ...          ...          ...            ...                 ...                   ...                               ...               ...                      ...\n",
       "                          ...      ...                ...        ...        ...            ...               ...          ...            ...          ...          ...          ...                     ...                ...                ...             ...         ...            ...          ...            ...                 ...              ...                               ...          ...         ...                 ...                 ...         ...          ...                  ...                        ...                  ...                ...           ...                   ...          ...          ...            ...                 ...                   ...                               ...               ...                      ...\n",
       "                          ...      ...                ...        ...        ...            ...               ...          ...            ...          ...          ...          ...                     ...                ...                ...             ...         ...            ...          ...            ...                 ...              ...                               ...          ...         ...                 ...                 ...         ...          ...                  ...                        ...                  ...                ...           ...                   ...          ...          ...            ...                 ...                   ...                               ...               ...                      ...\n",
       "Dask Name: read-csv, 41 tasks"
      ]
     },
     "execution_count": 3,
     "metadata": {},
     "output_type": "execute_result"
    }
   ],
   "source": [
    "df"
   ]
  },
  {
   "cell_type": "code",
   "execution_count": 4,
   "metadata": {},
   "outputs": [],
   "source": [
    "missing_values = df.isnull().sum() # finding nan values in dataset columns"
   ]
  },
  {
   "cell_type": "code",
   "execution_count": 5,
   "metadata": {},
   "outputs": [
    {
     "data": {
      "text/plain": [
       "Dask Series Structure:\n",
       "npartitions=1\n",
       "Date First Observed    int64\n",
       "Violation Time           ...\n",
       "dtype: int64\n",
       "Dask Name: dataframe-sum-agg, 124 tasks"
      ]
     },
     "execution_count": 5,
     "metadata": {},
     "output_type": "execute_result"
    }
   ],
   "source": [
    "missing_values"
   ]
  },
  {
   "cell_type": "code",
   "execution_count": 6,
   "metadata": {},
   "outputs": [],
   "source": [
    "missing_count = ((missing_values/df.index.size)*100) "
   ]
  },
  {
   "cell_type": "code",
   "execution_count": 7,
   "metadata": {},
   "outputs": [
    {
     "data": {
      "text/plain": [
       "Dask Series Structure:\n",
       "npartitions=1\n",
       "Date First Observed    float64\n",
       "Violation Time             ...\n",
       "dtype: float64\n",
       "Dask Name: mul, 209 tasks"
      ]
     },
     "execution_count": 7,
     "metadata": {},
     "output_type": "execute_result"
    }
   ],
   "source": [
    "missing_count"
   ]
  },
  {
   "cell_type": "code",
   "execution_count": 8,
   "metadata": {},
   "outputs": [
    {
     "name": "stdout",
     "output_type": "stream",
     "text": [
      "[#####################################   ] | 93% Completed |  1min  4.2s"
     ]
    },
    {
     "name": "stderr",
     "output_type": "stream",
     "text": [
      "C:\\Users\\HP\\anaconda3\\lib\\multiprocessing\\pool.py:125: DtypeWarning: Columns (18,38) have mixed types.Specify dtype option on import or set low_memory=False.\n",
      "  result = (True, func(*args, **kwds))\n"
     ]
    },
    {
     "name": "stdout",
     "output_type": "stream",
     "text": [
      "[######################################  ] | 96% Completed |  1min  5.4s"
     ]
    },
    {
     "name": "stderr",
     "output_type": "stream",
     "text": [
      "C:\\Users\\HP\\anaconda3\\lib\\multiprocessing\\pool.py:125: DtypeWarning: Columns (18,29,38,39) have mixed types.Specify dtype option on import or set low_memory=False.\n",
      "  result = (True, func(*args, **kwds))\n"
     ]
    },
    {
     "name": "stdout",
     "output_type": "stream",
     "text": [
      "[########################################] | 100% Completed |  1min  5.8s\n"
     ]
    }
   ],
   "source": [
    "with ProgressBar():\n",
    "    missing_count_val = missing_count.compute() #doing eager evaluation by computing the missing value"
   ]
  },
  {
   "cell_type": "code",
   "execution_count": 9,
   "metadata": {},
   "outputs": [
    {
     "data": {
      "text/plain": [
       "Summons Number                         0.000000\n",
       "Plate ID                               0.006739\n",
       "Registration State                     0.000000\n",
       "Plate Type                             0.000000\n",
       "Issue Date                             0.000000\n",
       "Violation Code                         0.000000\n",
       "Vehicle Body Type                      0.395361\n",
       "Vehicle Make                           0.676199\n",
       "Issuing Agency                         0.000000\n",
       "Street Code1                           0.000000\n",
       "Street Code2                           0.000000\n",
       "Street Code3                           0.000000\n",
       "Vehicle Expiration Date                0.000000\n",
       "Violation Location                    19.183510\n",
       "Violation Precinct                     0.000000\n",
       "Issuer Precinct                        0.000000\n",
       "Issuer Code                            0.000000\n",
       "Issuer Command                        19.093212\n",
       "Issuer Squad                          19.101506\n",
       "Violation Time                         0.000583\n",
       "Time First Observed                   92.217488\n",
       "Violation County                       0.366073\n",
       "Violation In Front Of Or Opposite     20.005826\n",
       "House Number                          21.184968\n",
       "Street Name                            0.037110\n",
       "Intersecting Street                   68.827675\n",
       "Date First Observed                    0.000000\n",
       "Law Section                            0.000000\n",
       "Sub Division                           0.007155\n",
       "Violation Legal Code                  80.906214\n",
       "Days Parking In Effect                25.107923\n",
       "From Hours In Effect                  50.457575\n",
       "To Hours In Effect                    50.457548\n",
       "Vehicle Color                          1.410179\n",
       "Unregistered Vehicle?                 89.562223\n",
       "Vehicle Year                           0.000000\n",
       "Meter Number                          83.472476\n",
       "Feet From Curb                         0.000000\n",
       "Violation Post Code                   29.530489\n",
       "Violation Description                 10.436611\n",
       "No Standing or Stopping Violation    100.000000\n",
       "Hydrant Violation                    100.000000\n",
       "Double Parking Violation             100.000000\n",
       "dtype: float64"
      ]
     },
     "execution_count": 9,
     "metadata": {},
     "output_type": "execute_result"
    }
   ],
   "source": [
    "missing_count_val"
   ]
  },
  {
   "cell_type": "code",
   "execution_count": 10,
   "metadata": {},
   "outputs": [],
   "source": [
    "columns_to_drop = missing_count_val[missing_count_val > 60].index #dropping the coulmns which have more than 60% nan values"
   ]
  },
  {
   "cell_type": "code",
   "execution_count": 11,
   "metadata": {},
   "outputs": [
    {
     "data": {
      "text/plain": [
       "Index(['Time First Observed', 'Intersecting Street', 'Violation Legal Code',\n",
       "       'Unregistered Vehicle?', 'Meter Number',\n",
       "       'No Standing or Stopping Violation', 'Hydrant Violation',\n",
       "       'Double Parking Violation'],\n",
       "      dtype='object')"
      ]
     },
     "execution_count": 11,
     "metadata": {},
     "output_type": "execute_result"
    }
   ],
   "source": [
    "columns_to_drop # columns which are dropped"
   ]
  },
  {
   "cell_type": "code",
   "execution_count": 12,
   "metadata": {},
   "outputs": [
    {
     "name": "stdout",
     "output_type": "stream",
     "text": [
      "[#####################################   ] | 93% Completed |  1min  7.1s"
     ]
    },
    {
     "name": "stderr",
     "output_type": "stream",
     "text": [
      "C:\\Users\\HP\\anaconda3\\lib\\site-packages\\dask\\core.py:121: DtypeWarning: Columns (18,38) have mixed types.Specify dtype option on import or set low_memory=False.\n",
      "  return func(*(_execute_task(a, cache) for a in args))\n"
     ]
    },
    {
     "name": "stdout",
     "output_type": "stream",
     "text": [
      "[####################################### ] | 97% Completed |  1min  8.3s"
     ]
    },
    {
     "name": "stderr",
     "output_type": "stream",
     "text": [
      "C:\\Users\\HP\\anaconda3\\lib\\site-packages\\dask\\core.py:121: DtypeWarning: Columns (18,29,38,39) have mixed types.Specify dtype option on import or set low_memory=False.\n",
      "  return func(*(_execute_task(a, cache) for a in args))\n"
     ]
    },
    {
     "name": "stdout",
     "output_type": "stream",
     "text": [
      "[########################################] | 100% Completed |  1min  8.5s\n"
     ]
    }
   ],
   "source": [
    "with ProgressBar():\n",
    "        df_dropped = df.drop(columns_to_drop,axis=1).persist() #save the data in memory by applying persist() function"
   ]
  },
  {
   "cell_type": "markdown",
   "metadata": {},
   "source": [
    "# What patterns can we find in the data that are correlated with increases and decreases in the number of parking tickets issued by newyork city parking authority ? "
   ]
  },
  {
   "cell_type": "code",
   "execution_count": 13,
   "metadata": {},
   "outputs": [],
   "source": [
    "import pandas as pd #data processing\n",
    "import seaborn as sns # for plotting the data"
   ]
  },
  {
   "cell_type": "code",
   "execution_count": 14,
   "metadata": {},
   "outputs": [],
   "source": [
    "fy14 = dd.read_csv(\"./Parking_Violations_Issued_-_Fiscal_Year_2014__August_2013___June_2014_.csv\")\n",
    "fy15 = dd.read_csv(\"./Parking_Violations_Issued_-_Fiscal_Year_2015.csv\")\n",
    "fy16 = dd.read_csv(\"./Parking_Violations_Issued_-_Fiscal_Year_2016.csv\")\n",
    "fy17 = dd.read_csv(\"./Parking_Violations_Issued_-_Fiscal_Year_2017.csv\")"
   ]
  },
  {
   "cell_type": "code",
   "execution_count": 15,
   "metadata": {},
   "outputs": [],
   "source": [
    "from functools import reduce"
   ]
  },
  {
   "cell_type": "code",
   "execution_count": 16,
   "metadata": {},
   "outputs": [],
   "source": [
    "columns = [set(fy14.columns),set(fy15.columns),set(fy16.columns),set(fy17.columns)]\n",
    "common_columns = list(reduce(lambda x,y: x.intersection(y),columns))  # making the list of common_columns"
   ]
  },
  {
   "cell_type": "code",
   "execution_count": 17,
   "metadata": {},
   "outputs": [],
   "source": [
    "fy15=fy15[common_columns]"
   ]
  },
  {
   "cell_type": "code",
   "execution_count": 18,
   "metadata": {},
   "outputs": [
    {
     "data": {
      "text/plain": [
       "Violation Location                   float64\n",
       "Registration State                    object\n",
       "Vehicle Expiration Date               object\n",
       "Unregistered Vehicle?                float64\n",
       "Violation Legal Code                 float64\n",
       "Vehicle Year                           int64\n",
       "Violation Post Code                   object\n",
       "Issuer Squad                          object\n",
       "Issuer Code                            int64\n",
       "Violation County                      object\n",
       "Violation Code                         int64\n",
       "Violation Precinct                     int64\n",
       "Double Parking Violation             float64\n",
       "Street Code2                           int64\n",
       "Vehicle Make                          object\n",
       "Violation In Front Of Or Opposite     object\n",
       "Meter Number                          object\n",
       "Hydrant Violation                    float64\n",
       "Intersecting Street                   object\n",
       "Days Parking In Effect                object\n",
       "Vehicle Body Type                     object\n",
       "Summons Number                         int64\n",
       "To Hours In Effect                    object\n",
       "Sub Division                          object\n",
       "Plate ID                              object\n",
       "No Standing or Stopping Violation    float64\n",
       "Time First Observed                   object\n",
       "Violation Time                        object\n",
       "Street Name                           object\n",
       "Law Section                            int64\n",
       "Date First Observed                   object\n",
       "Issue Date                            object\n",
       "Plate Type                            object\n",
       "Issuing Agency                        object\n",
       "House Number                          object\n",
       "Vehicle Color                         object\n",
       "Street Code3                           int64\n",
       "Issuer Command                        object\n",
       "Feet From Curb                         int64\n",
       "Street Code1                           int64\n",
       "From Hours In Effect                  object\n",
       "Violation Description                 object\n",
       "Issuer Precinct                        int64\n",
       "dtype: object"
      ]
     },
     "execution_count": 18,
     "metadata": {},
     "output_type": "execute_result"
    }
   ],
   "source": [
    "fy15.dtypes #fy15 columns datatypes"
   ]
  },
  {
   "cell_type": "code",
   "execution_count": 19,
   "metadata": {},
   "outputs": [],
   "source": [
    "fy15=fy15[common_columns]"
   ]
  },
  {
   "cell_type": "code",
   "execution_count": 20,
   "metadata": {},
   "outputs": [],
   "source": [
    "fy16=fy16[common_columns]"
   ]
  },
  {
   "cell_type": "code",
   "execution_count": 21,
   "metadata": {},
   "outputs": [],
   "source": [
    "fy17=fy17[common_columns]"
   ]
  },
  {
   "cell_type": "code",
   "execution_count": 22,
   "metadata": {},
   "outputs": [],
   "source": [
    "import numpy as np "
   ]
  },
  {
   "cell_type": "code",
   "execution_count": 23,
   "metadata": {},
   "outputs": [],
   "source": [
    "dtype_tuples = [(x,np.str) for x in common_columns] #convert common_columns datatye into string\n",
    "\n",
    "dtypes = dict(dtype_tuples)"
   ]
  },
  {
   "cell_type": "code",
   "execution_count": 24,
   "metadata": {},
   "outputs": [],
   "source": [
    "fy14 = dd.read_csv(\"./Parking_Violations_Issued_-_Fiscal_Year_2014__August_2013___June_2014_.csv\",dtype=dtypes)\n",
    "fy15 = dd.read_csv(\"./Parking_Violations_Issued_-_Fiscal_Year_2015.csv\",dtype=dtypes)\n",
    "fy16 = dd.read_csv(\"./Parking_Violations_Issued_-_Fiscal_Year_2016.csv\",dtype=dtypes)\n",
    "fy17 = dd.read_csv(\"./Parking_Violations_Issued_-_Fiscal_Year_2017.csv\",dtype=dtypes)"
   ]
  },
  {
   "cell_type": "code",
   "execution_count": 25,
   "metadata": {},
   "outputs": [],
   "source": [
    "complete_data = dd.read_csv(\"./*.csv\",dtype=dtypes,usecols=common_columns) #read all common_columns data of fy14,fy15,fy16,fy17"
   ]
  },
  {
   "cell_type": "code",
   "execution_count": 26,
   "metadata": {},
   "outputs": [
    {
     "data": {
      "text/plain": [
       "Summons Number                       object\n",
       "Plate ID                             object\n",
       "Registration State                   object\n",
       "Plate Type                           object\n",
       "Issue Date                           object\n",
       "Violation Code                       object\n",
       "Vehicle Body Type                    object\n",
       "Vehicle Make                         object\n",
       "Issuing Agency                       object\n",
       "Street Code1                         object\n",
       "Street Code2                         object\n",
       "Street Code3                         object\n",
       "Vehicle Expiration Date              object\n",
       "Violation Location                   object\n",
       "Violation Precinct                   object\n",
       "Issuer Precinct                      object\n",
       "Issuer Code                          object\n",
       "Issuer Command                       object\n",
       "Issuer Squad                         object\n",
       "Violation Time                       object\n",
       "Time First Observed                  object\n",
       "Violation County                     object\n",
       "Violation In Front Of Or Opposite    object\n",
       "House Number                         object\n",
       "Street Name                          object\n",
       "Intersecting Street                  object\n",
       "Date First Observed                  object\n",
       "Law Section                          object\n",
       "Sub Division                         object\n",
       "Violation Legal Code                 object\n",
       "Days Parking In Effect               object\n",
       "From Hours In Effect                 object\n",
       "To Hours In Effect                   object\n",
       "Vehicle Color                        object\n",
       "Unregistered Vehicle?                object\n",
       "Vehicle Year                         object\n",
       "Meter Number                         object\n",
       "Feet From Curb                       object\n",
       "Violation Post Code                  object\n",
       "Violation Description                object\n",
       "No Standing or Stopping Violation    object\n",
       "Hydrant Violation                    object\n",
       "Double Parking Violation             object\n",
       "dtype: object"
      ]
     },
     "execution_count": 26,
     "metadata": {},
     "output_type": "execute_result"
    }
   ],
   "source": [
    "complete_data.dtypes #datatype of common_columns after converting into string"
   ]
  },
  {
   "cell_type": "code",
   "execution_count": 27,
   "metadata": {},
   "outputs": [],
   "source": [
    "int_datatype=['Summons Number','Violation Code','Street Code1', 'Street Code2', 'Street Code3',\n",
    "       'Vehicle Expiration Date', 'Violation Precinct','Issuer Precinct', 'Issuer Code','Date First Observed',\n",
    "        'Law Section','Vehicle Year','Feet From Curb']   # make a list of int64 dtype columns"
   ]
  },
  {
   "cell_type": "code",
   "execution_count": 28,
   "metadata": {},
   "outputs": [],
   "source": [
    "float_datatype=['Violation Location','Unregistered Vehicle?','No Standing or Stopping Violation', 'Hydrant Violation',\n",
    "       'Double Parking Violation']   # make a list of float64 datatype"
   ]
  },
  {
   "cell_type": "code",
   "execution_count": 29,
   "metadata": {},
   "outputs": [],
   "source": [
    "complete_data[int_datatype]=complete_data[int_datatype].astype('int64') #converting data into int dtypes"
   ]
  },
  {
   "cell_type": "code",
   "execution_count": 30,
   "metadata": {},
   "outputs": [],
   "source": [
    "complete_data[float_datatype]=complete_data[float_datatype].astype('float64') # converting data into float dtypes"
   ]
  },
  {
   "cell_type": "code",
   "execution_count": 31,
   "metadata": {},
   "outputs": [
    {
     "data": {
      "text/plain": [
       "Summons Number                         int64\n",
       "Plate ID                              object\n",
       "Registration State                    object\n",
       "Plate Type                            object\n",
       "Issue Date                            object\n",
       "Violation Code                         int64\n",
       "Vehicle Body Type                     object\n",
       "Vehicle Make                          object\n",
       "Issuing Agency                        object\n",
       "Street Code1                           int64\n",
       "Street Code2                           int64\n",
       "Street Code3                           int64\n",
       "Vehicle Expiration Date                int64\n",
       "Violation Location                   float64\n",
       "Violation Precinct                     int64\n",
       "Issuer Precinct                        int64\n",
       "Issuer Code                            int64\n",
       "Issuer Command                        object\n",
       "Issuer Squad                          object\n",
       "Violation Time                        object\n",
       "Time First Observed                   object\n",
       "Violation County                      object\n",
       "Violation In Front Of Or Opposite     object\n",
       "House Number                          object\n",
       "Street Name                           object\n",
       "Intersecting Street                   object\n",
       "Date First Observed                    int64\n",
       "Law Section                            int64\n",
       "Sub Division                          object\n",
       "Violation Legal Code                  object\n",
       "Days Parking In Effect                object\n",
       "From Hours In Effect                  object\n",
       "To Hours In Effect                    object\n",
       "Vehicle Color                         object\n",
       "Unregistered Vehicle?                float64\n",
       "Vehicle Year                           int64\n",
       "Meter Number                          object\n",
       "Feet From Curb                         int64\n",
       "Violation Post Code                   object\n",
       "Violation Description                 object\n",
       "No Standing or Stopping Violation    float64\n",
       "Hydrant Violation                    float64\n",
       "Double Parking Violation             float64\n",
       "dtype: object"
      ]
     },
     "execution_count": 31,
     "metadata": {},
     "output_type": "execute_result"
    }
   ],
   "source": [
    "complete_data.dtypes"
   ]
  },
  {
   "cell_type": "code",
   "execution_count": 32,
   "metadata": {},
   "outputs": [
    {
     "data": {
      "text/html": [
       "<div>\n",
       "<style scoped>\n",
       "    .dataframe tbody tr th:only-of-type {\n",
       "        vertical-align: middle;\n",
       "    }\n",
       "\n",
       "    .dataframe tbody tr th {\n",
       "        vertical-align: top;\n",
       "    }\n",
       "\n",
       "    .dataframe thead th {\n",
       "        text-align: right;\n",
       "    }\n",
       "</style>\n",
       "<table border=\"1\" class=\"dataframe\">\n",
       "  <thead>\n",
       "    <tr style=\"text-align: right;\">\n",
       "      <th></th>\n",
       "      <th>Summons Number</th>\n",
       "      <th>Plate ID</th>\n",
       "      <th>Registration State</th>\n",
       "      <th>Plate Type</th>\n",
       "      <th>Issue Date</th>\n",
       "      <th>Violation Code</th>\n",
       "      <th>Vehicle Body Type</th>\n",
       "      <th>Vehicle Make</th>\n",
       "      <th>Issuing Agency</th>\n",
       "      <th>Street Code1</th>\n",
       "      <th>...</th>\n",
       "      <th>Vehicle Color</th>\n",
       "      <th>Unregistered Vehicle?</th>\n",
       "      <th>Vehicle Year</th>\n",
       "      <th>Meter Number</th>\n",
       "      <th>Feet From Curb</th>\n",
       "      <th>Violation Post Code</th>\n",
       "      <th>Violation Description</th>\n",
       "      <th>No Standing or Stopping Violation</th>\n",
       "      <th>Hydrant Violation</th>\n",
       "      <th>Double Parking Violation</th>\n",
       "    </tr>\n",
       "  </thead>\n",
       "  <tbody>\n",
       "    <tr>\n",
       "      <th>0</th>\n",
       "      <td>1283294138</td>\n",
       "      <td>GBB9093</td>\n",
       "      <td>NY</td>\n",
       "      <td>PAS</td>\n",
       "      <td>08/04/2013</td>\n",
       "      <td>46</td>\n",
       "      <td>SUBN</td>\n",
       "      <td>AUDI</td>\n",
       "      <td>P</td>\n",
       "      <td>37250</td>\n",
       "      <td>...</td>\n",
       "      <td>GY</td>\n",
       "      <td>0.0</td>\n",
       "      <td>2013</td>\n",
       "      <td>-</td>\n",
       "      <td>0</td>\n",
       "      <td>NaN</td>\n",
       "      <td>NaN</td>\n",
       "      <td>NaN</td>\n",
       "      <td>NaN</td>\n",
       "      <td>NaN</td>\n",
       "    </tr>\n",
       "    <tr>\n",
       "      <th>1</th>\n",
       "      <td>1283294151</td>\n",
       "      <td>62416MB</td>\n",
       "      <td>NY</td>\n",
       "      <td>COM</td>\n",
       "      <td>08/04/2013</td>\n",
       "      <td>46</td>\n",
       "      <td>VAN</td>\n",
       "      <td>FORD</td>\n",
       "      <td>P</td>\n",
       "      <td>37290</td>\n",
       "      <td>...</td>\n",
       "      <td>WH</td>\n",
       "      <td>0.0</td>\n",
       "      <td>2012</td>\n",
       "      <td>-</td>\n",
       "      <td>0</td>\n",
       "      <td>NaN</td>\n",
       "      <td>NaN</td>\n",
       "      <td>NaN</td>\n",
       "      <td>NaN</td>\n",
       "      <td>NaN</td>\n",
       "    </tr>\n",
       "    <tr>\n",
       "      <th>2</th>\n",
       "      <td>1283294163</td>\n",
       "      <td>78755JZ</td>\n",
       "      <td>NY</td>\n",
       "      <td>COM</td>\n",
       "      <td>08/05/2013</td>\n",
       "      <td>46</td>\n",
       "      <td>P-U</td>\n",
       "      <td>CHEVR</td>\n",
       "      <td>P</td>\n",
       "      <td>37030</td>\n",
       "      <td>...</td>\n",
       "      <td>NaN</td>\n",
       "      <td>0.0</td>\n",
       "      <td>0</td>\n",
       "      <td>-</td>\n",
       "      <td>0</td>\n",
       "      <td>NaN</td>\n",
       "      <td>NaN</td>\n",
       "      <td>NaN</td>\n",
       "      <td>NaN</td>\n",
       "      <td>NaN</td>\n",
       "    </tr>\n",
       "    <tr>\n",
       "      <th>3</th>\n",
       "      <td>1283294175</td>\n",
       "      <td>63009MA</td>\n",
       "      <td>NY</td>\n",
       "      <td>COM</td>\n",
       "      <td>08/05/2013</td>\n",
       "      <td>46</td>\n",
       "      <td>VAN</td>\n",
       "      <td>FORD</td>\n",
       "      <td>P</td>\n",
       "      <td>37270</td>\n",
       "      <td>...</td>\n",
       "      <td>WH</td>\n",
       "      <td>0.0</td>\n",
       "      <td>2010</td>\n",
       "      <td>-</td>\n",
       "      <td>0</td>\n",
       "      <td>NaN</td>\n",
       "      <td>NaN</td>\n",
       "      <td>NaN</td>\n",
       "      <td>NaN</td>\n",
       "      <td>NaN</td>\n",
       "    </tr>\n",
       "    <tr>\n",
       "      <th>4</th>\n",
       "      <td>1283294187</td>\n",
       "      <td>91648MC</td>\n",
       "      <td>NY</td>\n",
       "      <td>COM</td>\n",
       "      <td>08/08/2013</td>\n",
       "      <td>41</td>\n",
       "      <td>TRLR</td>\n",
       "      <td>GMC</td>\n",
       "      <td>P</td>\n",
       "      <td>37240</td>\n",
       "      <td>...</td>\n",
       "      <td>BR</td>\n",
       "      <td>0.0</td>\n",
       "      <td>2012</td>\n",
       "      <td>-</td>\n",
       "      <td>0</td>\n",
       "      <td>NaN</td>\n",
       "      <td>NaN</td>\n",
       "      <td>NaN</td>\n",
       "      <td>NaN</td>\n",
       "      <td>NaN</td>\n",
       "    </tr>\n",
       "  </tbody>\n",
       "</table>\n",
       "<p>5 rows × 43 columns</p>\n",
       "</div>"
      ],
      "text/plain": [
       "   Summons Number Plate ID Registration State Plate Type  Issue Date  \\\n",
       "0      1283294138  GBB9093                 NY        PAS  08/04/2013   \n",
       "1      1283294151  62416MB                 NY        COM  08/04/2013   \n",
       "2      1283294163  78755JZ                 NY        COM  08/05/2013   \n",
       "3      1283294175  63009MA                 NY        COM  08/05/2013   \n",
       "4      1283294187  91648MC                 NY        COM  08/08/2013   \n",
       "\n",
       "   Violation Code Vehicle Body Type Vehicle Make Issuing Agency  Street Code1  \\\n",
       "0              46              SUBN         AUDI              P         37250   \n",
       "1              46               VAN         FORD              P         37290   \n",
       "2              46               P-U        CHEVR              P         37030   \n",
       "3              46               VAN         FORD              P         37270   \n",
       "4              41              TRLR          GMC              P         37240   \n",
       "\n",
       "   ...  Vehicle Color  Unregistered Vehicle?  Vehicle Year  Meter Number  \\\n",
       "0  ...             GY                    0.0          2013             -   \n",
       "1  ...             WH                    0.0          2012             -   \n",
       "2  ...            NaN                    0.0             0             -   \n",
       "3  ...             WH                    0.0          2010             -   \n",
       "4  ...             BR                    0.0          2012             -   \n",
       "\n",
       "   Feet From Curb  Violation Post Code  Violation Description  \\\n",
       "0               0                  NaN                    NaN   \n",
       "1               0                  NaN                    NaN   \n",
       "2               0                  NaN                    NaN   \n",
       "3               0                  NaN                    NaN   \n",
       "4               0                  NaN                    NaN   \n",
       "\n",
       "  No Standing or Stopping Violation Hydrant Violation Double Parking Violation  \n",
       "0                               NaN               NaN                      NaN  \n",
       "1                               NaN               NaN                      NaN  \n",
       "2                               NaN               NaN                      NaN  \n",
       "3                               NaN               NaN                      NaN  \n",
       "4                               NaN               NaN                      NaN  \n",
       "\n",
       "[5 rows x 43 columns]"
      ]
     },
     "execution_count": 32,
     "metadata": {},
     "output_type": "execute_result"
    }
   ],
   "source": [
    "complete_data.head()"
   ]
  },
  {
   "cell_type": "code",
   "execution_count": 33,
   "metadata": {},
   "outputs": [],
   "source": [
    "new_data=complete_data.corr( method='pearson') #excluding nan values from the datasets"
   ]
  },
  {
   "cell_type": "code",
   "execution_count": 34,
   "metadata": {},
   "outputs": [
    {
     "name": "stderr",
     "output_type": "stream",
     "text": [
      "C:\\Users\\HP\\anaconda3\\lib\\site-packages\\dask\\core.py:121: DtypeWarning: Columns (18,38) have mixed types.Specify dtype option on import or set low_memory=False.\n",
      "  return func(*(_execute_task(a, cache) for a in args))\n",
      "C:\\Users\\HP\\anaconda3\\lib\\site-packages\\dask\\core.py:121: DtypeWarning: Columns (18,29,38,39) have mixed types.Specify dtype option on import or set low_memory=False.\n",
      "  return func(*(_execute_task(a, cache) for a in args))\n"
     ]
    },
    {
     "ename": "AttributeError",
     "evalue": "'Index' object has no attribute 'is_monotonic_increasing'",
     "output_type": "error",
     "traceback": [
      "\u001b[1;31m---------------------------------------------------------------------------\u001b[0m",
      "\u001b[1;31mAttributeError\u001b[0m                            Traceback (most recent call last)",
      "\u001b[1;32m<ipython-input-34-fe9b866b5aa3>\u001b[0m in \u001b[0;36m<module>\u001b[1;34m\u001b[0m\n\u001b[1;32m----> 1\u001b[1;33m \u001b[0mnew_data\u001b[0m \u001b[1;33m=\u001b[0m \u001b[0mdd\u001b[0m\u001b[1;33m.\u001b[0m\u001b[0mfrom_pandas\u001b[0m\u001b[1;33m(\u001b[0m\u001b[0mdf\u001b[0m\u001b[1;33m,\u001b[0m \u001b[0mnpartitions\u001b[0m\u001b[1;33m=\u001b[0m\u001b[1;36m3\u001b[0m\u001b[1;33m)\u001b[0m\u001b[1;33m\u001b[0m\u001b[1;33m\u001b[0m\u001b[0m\n\u001b[0m",
      "\u001b[1;32m~\\anaconda3\\lib\\site-packages\\dask\\dataframe\\io\\io.py\u001b[0m in \u001b[0;36mfrom_pandas\u001b[1;34m(data, npartitions, chunksize, sort, name)\u001b[0m\n\u001b[0;32m    211\u001b[0m         \u001b[1;32mreturn\u001b[0m \u001b[0mnew_dd_object\u001b[0m\u001b[1;33m(\u001b[0m\u001b[1;33m{\u001b[0m\u001b[1;33m(\u001b[0m\u001b[0mname\u001b[0m\u001b[1;33m,\u001b[0m \u001b[1;36m0\u001b[0m\u001b[1;33m)\u001b[0m\u001b[1;33m:\u001b[0m \u001b[0mdata\u001b[0m\u001b[1;33m}\u001b[0m\u001b[1;33m,\u001b[0m \u001b[0mname\u001b[0m\u001b[1;33m,\u001b[0m \u001b[0mdata\u001b[0m\u001b[1;33m,\u001b[0m \u001b[1;33m[\u001b[0m\u001b[1;32mNone\u001b[0m\u001b[1;33m,\u001b[0m \u001b[1;32mNone\u001b[0m\u001b[1;33m]\u001b[0m\u001b[1;33m)\u001b[0m\u001b[1;33m\u001b[0m\u001b[1;33m\u001b[0m\u001b[0m\n\u001b[0;32m    212\u001b[0m \u001b[1;33m\u001b[0m\u001b[0m\n\u001b[1;32m--> 213\u001b[1;33m     \u001b[1;32mif\u001b[0m \u001b[0msort\u001b[0m \u001b[1;32mand\u001b[0m \u001b[1;32mnot\u001b[0m \u001b[0mdata\u001b[0m\u001b[1;33m.\u001b[0m\u001b[0mindex\u001b[0m\u001b[1;33m.\u001b[0m\u001b[0mis_monotonic_increasing\u001b[0m\u001b[1;33m:\u001b[0m\u001b[1;33m\u001b[0m\u001b[1;33m\u001b[0m\u001b[0m\n\u001b[0m\u001b[0;32m    214\u001b[0m         \u001b[0mdata\u001b[0m \u001b[1;33m=\u001b[0m \u001b[0mdata\u001b[0m\u001b[1;33m.\u001b[0m\u001b[0msort_index\u001b[0m\u001b[1;33m(\u001b[0m\u001b[0mascending\u001b[0m\u001b[1;33m=\u001b[0m\u001b[1;32mTrue\u001b[0m\u001b[1;33m)\u001b[0m\u001b[1;33m\u001b[0m\u001b[1;33m\u001b[0m\u001b[0m\n\u001b[0;32m    215\u001b[0m     \u001b[1;32mif\u001b[0m \u001b[0msort\u001b[0m\u001b[1;33m:\u001b[0m\u001b[1;33m\u001b[0m\u001b[1;33m\u001b[0m\u001b[0m\n",
      "\u001b[1;32m~\\anaconda3\\lib\\site-packages\\dask\\dataframe\\core.py\u001b[0m in \u001b[0;36m__getattr__\u001b[1;34m(self, key)\u001b[0m\n\u001b[0;32m   3316\u001b[0m         \u001b[1;32melif\u001b[0m \u001b[0mkey\u001b[0m \u001b[1;32min\u001b[0m \u001b[0mself\u001b[0m\u001b[1;33m.\u001b[0m\u001b[0m_dt_attributes\u001b[0m\u001b[1;33m:\u001b[0m\u001b[1;33m\u001b[0m\u001b[1;33m\u001b[0m\u001b[0m\n\u001b[0;32m   3317\u001b[0m             \u001b[1;32mreturn\u001b[0m \u001b[0mgetattr\u001b[0m\u001b[1;33m(\u001b[0m\u001b[0mself\u001b[0m\u001b[1;33m.\u001b[0m\u001b[0mdt\u001b[0m\u001b[1;33m,\u001b[0m \u001b[0mkey\u001b[0m\u001b[1;33m)\u001b[0m\u001b[1;33m\u001b[0m\u001b[1;33m\u001b[0m\u001b[0m\n\u001b[1;32m-> 3318\u001b[1;33m         \u001b[1;32mraise\u001b[0m \u001b[0mAttributeError\u001b[0m\u001b[1;33m(\u001b[0m\u001b[1;34m\"'Index' object has no attribute %r\"\u001b[0m \u001b[1;33m%\u001b[0m \u001b[0mkey\u001b[0m\u001b[1;33m)\u001b[0m\u001b[1;33m\u001b[0m\u001b[1;33m\u001b[0m\u001b[0m\n\u001b[0m\u001b[0;32m   3319\u001b[0m \u001b[1;33m\u001b[0m\u001b[0m\n\u001b[0;32m   3320\u001b[0m     \u001b[1;32mdef\u001b[0m \u001b[0m__dir__\u001b[0m\u001b[1;33m(\u001b[0m\u001b[0mself\u001b[0m\u001b[1;33m)\u001b[0m\u001b[1;33m:\u001b[0m\u001b[1;33m\u001b[0m\u001b[1;33m\u001b[0m\u001b[0m\n",
      "\u001b[1;31mAttributeError\u001b[0m: 'Index' object has no attribute 'is_monotonic_increasing'"
     ]
    }
   ],
   "source": [
    "new_data = dd.from_pandas(df, npartitions=3) \n"
   ]
  },
  {
   "cell_type": "code",
   "execution_count": null,
   "metadata": {},
   "outputs": [],
   "source": []
  },
  {
   "cell_type": "code",
   "execution_count": null,
   "metadata": {},
   "outputs": [],
   "source": []
  },
  {
   "cell_type": "code",
   "execution_count": null,
   "metadata": {},
   "outputs": [],
   "source": []
  }
 ],
 "metadata": {
  "kernelspec": {
   "display_name": "Python 3",
   "language": "python",
   "name": "python3"
  },
  "language_info": {
   "codemirror_mode": {
    "name": "ipython",
    "version": 3
   },
   "file_extension": ".py",
   "mimetype": "text/x-python",
   "name": "python",
   "nbconvert_exporter": "python",
   "pygments_lexer": "ipython3",
   "version": "3.8.5"
  }
 },
 "nbformat": 4,
 "nbformat_minor": 4
}
